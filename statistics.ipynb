{
  "nbformat": 4,
  "nbformat_minor": 0,
  "metadata": {
    "colab": {
      "provenance": [],
      "authorship_tag": "ABX9TyP0SFDRReZBAOHvlaeHx4fl",
      "include_colab_link": true
    },
    "kernelspec": {
      "name": "python3",
      "display_name": "Python 3"
    },
    "language_info": {
      "name": "python"
    }
  },
  "cells": [
    {
      "cell_type": "markdown",
      "metadata": {
        "id": "view-in-github",
        "colab_type": "text"
      },
      "source": [
        "<a href=\"https://colab.research.google.com/github/M-Amitha/Data_Analytics/blob/main/statistics.ipynb\" target=\"_parent\"><img src=\"https://colab.research.google.com/assets/colab-badge.svg\" alt=\"Open In Colab\"/></a>"
      ]
    },
    {
      "cell_type": "code",
      "execution_count": 28,
      "metadata": {
        "id": "_0yvFkHu9aRV"
      },
      "outputs": [],
      "source": [
        "import numpy as np\n"
      ]
    },
    {
      "cell_type": "code",
      "source": [
        "#finding mean values use the numpy library mean() method\n",
        "values=[4,7,11,14]\n",
        "x=np.mean(values)\n",
        "print(x)\n",
        "print(int(x))"
      ],
      "metadata": {
        "colab": {
          "base_uri": "https://localhost:8080/"
        },
        "id": "eHR8bh-jRBB7",
        "outputId": "ac777242-66b7-440d-8ec4-3b68ee10c56b"
      },
      "execution_count": 29,
      "outputs": [
        {
          "output_type": "stream",
          "name": "stdout",
          "text": [
            "9.0\n",
            "9\n"
          ]
        }
      ]
    },
    {
      "cell_type": "code",
      "source": [
        "#finding mean values use the numpy library meadian() method\n",
        "values = [13,21,21,40,42,48,55,72]\n",
        "x=np.median(values)\n",
        "x"
      ],
      "metadata": {
        "colab": {
          "base_uri": "https://localhost:8080/"
        },
        "id": "-5Ow4XE_TfSZ",
        "outputId": "7b537bfb-7c01-4ee6-a4ea-e67d0192038d"
      },
      "execution_count": 30,
      "outputs": [
        {
          "output_type": "execute_result",
          "data": {
            "text/plain": [
              "41.0"
            ]
          },
          "metadata": {},
          "execution_count": 30
        }
      ]
    },
    {
      "cell_type": "code",
      "source": [
        "\n",
        "values = [13,21,21,42,48,55,72]\n",
        "x=np.median(values)\n",
        "x"
      ],
      "metadata": {
        "colab": {
          "base_uri": "https://localhost:8080/"
        },
        "id": "_29jFJ0YTpIy",
        "outputId": "7bc8654a-96cc-4892-807e-87d527afdc3d"
      },
      "execution_count": 31,
      "outputs": [
        {
          "output_type": "execute_result",
          "data": {
            "text/plain": [
              "42.0"
            ]
          },
          "metadata": {},
          "execution_count": 31
        }
      ]
    },
    {
      "cell_type": "code",
      "source": [
        "from statistics import multimode\n",
        "\n",
        "values = [4,7,3,8,11,7,10,19,6,9,12,12]\n",
        "\n",
        "x = multimode(values)\n",
        "\n",
        "print(x)"
      ],
      "metadata": {
        "colab": {
          "base_uri": "https://localhost:8080/"
        },
        "id": "woYC845MVG12",
        "outputId": "9d2aae9e-7744-4b1a-f9a7-457d3796942c"
      },
      "execution_count": 32,
      "outputs": [
        {
          "output_type": "stream",
          "name": "stdout",
          "text": [
            "[7, 12]\n"
          ]
        }
      ]
    },
    {
      "cell_type": "code",
      "source": [
        "#Range\n",
        "values = [13,21,21,40,48,55,72]\n",
        "x = np.ptp(values)\n",
        "print(x)"
      ],
      "metadata": {
        "colab": {
          "base_uri": "https://localhost:8080/"
        },
        "id": "GMRM0yOpfI5r",
        "outputId": "1c62e3fb-8a34-4730-f9ae-1839980f7a8e"
      },
      "execution_count": 33,
      "outputs": [
        {
          "output_type": "stream",
          "name": "stdout",
          "text": [
            "59\n"
          ]
        }
      ]
    },
    {
      "cell_type": "code",
      "source": [
        "values = (13,21,21,40,48,55,72)\n",
        "x=max(values)-min(values) #other method for finding the range\n",
        "x"
      ],
      "metadata": {
        "colab": {
          "base_uri": "https://localhost:8080/"
        },
        "id": "zGD7CjpxfX5G",
        "outputId": "44e7e0ab-826c-4898-980d-cde43a4e776c"
      },
      "execution_count": 34,
      "outputs": [
        {
          "output_type": "execute_result",
          "data": {
            "text/plain": [
              "59"
            ]
          },
          "metadata": {},
          "execution_count": 34
        }
      ]
    },
    {
      "cell_type": "code",
      "source": [
        "#calculate quartiles\n",
        "values = [13,21,21,40,42,48,55,72]\n",
        "x = np.quantile(values, [0,0.25,0.5,0.75,1])\n",
        "print(x)\n"
      ],
      "metadata": {
        "colab": {
          "base_uri": "https://localhost:8080/"
        },
        "id": "-6d_-UjshC1Q",
        "outputId": "5ce70cc7-f3b0-462c-8cd1-d9fbf1923974"
      },
      "execution_count": 35,
      "outputs": [
        {
          "output_type": "stream",
          "name": "stdout",
          "text": [
            "[13.   21.   41.   49.75 72.  ]\n"
          ]
        }
      ]
    },
    {
      "cell_type": "code",
      "source": [
        "#Calculate the percentile\n",
        "values = [13,21,21,40,42,48,55,72]\n",
        "x = np.percentile(values, 65)\n",
        "print(x)\n"
      ],
      "metadata": {
        "colab": {
          "base_uri": "https://localhost:8080/"
        },
        "id": "C8fE2cmqi-zv",
        "outputId": "2f3518a8-35ea-4d05-bfeb-9aad66eeb791"
      },
      "execution_count": 36,
      "outputs": [
        {
          "output_type": "stream",
          "name": "stdout",
          "text": [
            "45.3\n"
          ]
        }
      ]
    },
    {
      "cell_type": "code",
      "source": [
        "#IQR--Inter Quartile Range\n",
        "from scipy import stats\n",
        "values = [13,21,21,40,42,48,55,72]\n",
        "x = stats.iqr(values)\n",
        "print(x)\n"
      ],
      "metadata": {
        "colab": {
          "base_uri": "https://localhost:8080/"
        },
        "id": "g6U1l14ylkSF",
        "outputId": "4e0a2ac0-2ce7-4a37-bb1e-0fd7bb4d9f1d"
      },
      "execution_count": 37,
      "outputs": [
        {
          "output_type": "stream",
          "name": "stdout",
          "text": [
            "28.75\n"
          ]
        }
      ]
    },
    {
      "cell_type": "code",
      "source": [
        "#Calculate the standard deviation for the data\n",
        "values=[4,7,11,14]\n",
        "x=np.std(values)\n",
        "x"
      ],
      "metadata": {
        "colab": {
          "base_uri": "https://localhost:8080/"
        },
        "id": "NAyiK_OUmKhg",
        "outputId": "da69a0dd-901d-42c9-86ee-72f360a74e11"
      },
      "execution_count": 39,
      "outputs": [
        {
          "output_type": "execute_result",
          "data": {
            "text/plain": [
              "3.8078865529319543"
            ]
          },
          "metadata": {},
          "execution_count": 39
        }
      ]
    },
    {
      "cell_type": "code",
      "source": [
        "#sample standard deviation\n",
        "import numpy\n",
        "values = [4,11,7,14]\n",
        "x = numpy.std(values, ddof=1)\n",
        "print(x)"
      ],
      "metadata": {
        "colab": {
          "base_uri": "https://localhost:8080/"
        },
        "id": "_awp5Pe3mKua",
        "outputId": "9463d2d1-2560-4127-e999-da8cf9d0bf1c"
      },
      "execution_count": 40,
      "outputs": [
        {
          "output_type": "stream",
          "name": "stdout",
          "text": [
            "4.396968652757639\n"
          ]
        }
      ]
    },
    {
      "cell_type": "code",
      "source": [],
      "metadata": {
        "id": "HwP2AlgNmKyG"
      },
      "execution_count": 37,
      "outputs": []
    }
  ]
}